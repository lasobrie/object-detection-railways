{
  "cells": [
    {
      "cell_type": "markdown",
      "metadata": {
        "id": "cgT4hcCSmah-"
      },
      "source": [
        "# Object Detection Code for Railway Track Faults and Breaks: From video to images\n",
        "\n",
        "## System Performance Lab, Virginia Tech"
      ]
    },
    {
      "cell_type": "markdown",
      "metadata": {
        "id": "gm_0kQIvmXBb"
      },
      "source": [
        "## Notebook purpose\n",
        "\n",
        "**Goal.** Develop a Python Notebook to extract images for the train, val and test sets.\n",
        "\n",
        "**Data layout for the images.**\n",
        "```\n",
        "data/\n",
        "├── train/\n",
        "│   ├── fail/\n",
        "│   └── ok/     \n",
        "├── val/\n",
        "│   ├── fail/\n",
        "│   └── ok/\n",
        "└── test/        \n",
        "    ├── fail/\n",
        "    └── ok/\n",
        "```\n",
        "\n",
        "**Organization of Python notebook.**\n",
        "1. Install the packages\n",
        "2. Set paths for video and images, and other specifications\n",
        "3. Extract frames from video\n",
        "4. Build datasets splits train, val and test\n"
      ]
    },
    {
      "cell_type": "markdown",
      "metadata": {
        "id": "yZg4K0zSnXqT"
      },
      "source": [
        "## 1. Install the packages"
      ]
    },
    {
      "cell_type": "code",
      "execution_count": 1,
      "metadata": {
        "id": "yQAc8a40mPqM"
      },
      "outputs": [],
      "source": [
        "# load these packages\n",
        "import os\n",
        "import re\n",
        "import pandas as pd\n",
        "import numpy as np\n",
        "import glob\n",
        "import math\n",
        "from pathlib import Path\n",
        "import cv2\n",
        "from PIL import Image   # only if you preview images\n",
        "import matplotlib.pyplot as plt  # only if you preview images"
      ]
    },
    {
      "cell_type": "markdown",
      "metadata": {
        "id": "0bz0tGotnd-6"
      },
      "source": [
        "## 2. Set paths for video and images, and other specifications\n"
      ]
    },
    {
      "cell_type": "code",
      "execution_count": null,
      "metadata": {
        "id": "R_rvfTkTnoYC"
      },
      "outputs": [],
      "source": [
        "# ---- User-configurable ----\n",
        "ROOT_IN   = \"/videos/\"                 # folder where your videos are located\n",
        "ROOT_OUT  = \"/data/\"          # root for extracted frames\n",
        "TARGET_FPS = 5.0                # <-- extract 5 frames per second\n",
        "JPEG_QUALITY = 95               # 0–100\n",
        "FILENAME_PREFIX = \"frame_\"      # resulting image names like frame_000001.jpg\n",
        "\n",
        "# If your videos are exactly these names, you can leave this\n",
        "OK_PATTERNS   = [f\"{ROOT_IN}/ok-video{i}\" for i in [1,2,3]]\n",
        "FAIL_PATTERNS = [f\"{ROOT_IN}/fail-video{i}\" for i in [1,2,3]]\n",
        "\n",
        "# Accept with or without extension, common extensions list:\n",
        "VIDEO_EXTS = [\"\", \".mp4\", \".MP4\", \".mov\", \".MOV\", \".mkv\", \".MKV\", \".avi\", \".AVI\"]\n",
        "\n",
        "# Map index -> split\n",
        "INDEX_TO_SPLIT = {1: \"train\", 2: \"val\", 3: \"test\"}"
      ]
    },
    {
      "cell_type": "code",
      "execution_count": 3,
      "metadata": {
        "id": "TILByo6-nxlp"
      },
      "outputs": [],
      "source": [
        "# Utility functions\n",
        "# Creates a directory (and any missing parent directories) if it doesn’t already exist.\n",
        "def ensure_dir(p: Path):\n",
        "    p.mkdir(parents=True, exist_ok=True)\n",
        "\n",
        "# Searches for video files matching specific patterns and returns a dictionary mapping video indices (e.g., 1, 2, 3) to their file paths.\n",
        "# This function is useful for batch processing videos with predictable naming (e.g., video1.mp4, video2.mp4).\n",
        "def discover_video_paths(base_patterns, video_exts):\n",
        "    \"\"\"Return a dict { index -> filepath } for indices 1..3 if found.\"\"\"\n",
        "    found = {}\n",
        "    for pat in base_patterns:\n",
        "        m = re.search(r\"video(\\d+)$\", pat)\n",
        "        if not m:\n",
        "            continue\n",
        "        idx = int(m.group(1))\n",
        "        candidates = []\n",
        "        for ext in video_exts:\n",
        "            candidates.extend(glob.glob(pat + ext))\n",
        "        if candidates:\n",
        "            # prefer files with an extension if both exist\n",
        "            candidates = sorted(candidates, key=lambda x: (0 if Path(x).suffix else 1, x))\n",
        "            found[idx] = candidates[0]\n",
        "    return found\n",
        "\n",
        "# Extracts metadata (FPS, frame count, duration) from a video file using OpenCV.\n",
        "# This functions is critical for video analysis, as FPS and frame count are needed for frame-by-frame processing\n",
        "def get_video_meta(path):\n",
        "    cap = cv2.VideoCapture(str(path))\n",
        "    if not cap.isOpened():\n",
        "        raise RuntimeError(f\"Cannot open video: {path}\")\n",
        "    fps = cap.get(cv2.CAP_PROP_FPS)\n",
        "    if not fps or fps <= 0:\n",
        "        fps = 30.0  # fallback\n",
        "    frame_count = cap.get(cv2.CAP_PROP_FRAME_COUNT)\n",
        "    duration_s = frame_count / fps if (frame_count and frame_count > 0) else None\n",
        "    return cap, fps, int(frame_count) if frame_count and frame_count>0 else None, duration_s"
      ]
    },
    {
      "cell_type": "markdown",
      "metadata": {
        "id": "szNiiQxwneK6"
      },
      "source": [
        "## 3. Extract frames from video\n"
      ]
    },
    {
      "cell_type": "code",
      "execution_count": 4,
      "metadata": {
        "id": "BQzZjJTen0dl"
      },
      "outputs": [],
      "source": [
        "# Extract frames at a fixed TARGET_FPS using time-based sampling\n",
        "def extract_fixed_fps(video_path, out_dir, target_fps=5.0, jpeg_quality=95, prefix=\"frame_\"):\n",
        "    \"\"\"\n",
        "    Extract frames every (1/target_fps) seconds using CAP_PROP_POS_MSEC seeks.\n",
        "    Robust to variable frame rates.\n",
        "    \"\"\"\n",
        "    out_dir = Path(out_dir)\n",
        "    ensure_dir(out_dir)\n",
        "\n",
        "    cap, src_fps, frame_count, duration_s = get_video_meta(video_path)\n",
        "\n",
        "    # If no reliable duration, approximate from frames & fps\n",
        "    if not duration_s or not math.isfinite(duration_s) or duration_s <= 0:\n",
        "        if frame_count and frame_count > 0:\n",
        "            duration_s = frame_count / src_fps\n",
        "        else:\n",
        "            raise RuntimeError(f\"Cannot determine duration for {video_path}\")\n",
        "\n",
        "    dt = 1.0 / max(1e-6, float(target_fps))           # seconds between frames\n",
        "    # timestamps: [0, dt, 2dt, ...] strictly less than duration to avoid EOF seek issues\n",
        "    timestamps = np.arange(0.0, max(0.0, duration_s - 1e-6), dt)\n",
        "\n",
        "    imwrite_params = [cv2.IMWRITE_JPEG_QUALITY, int(max(0, min(100, jpeg_quality)))]\n",
        "    saved = 0\n",
        "\n",
        "    for i, ts in enumerate(timestamps):\n",
        "        cap.set(cv2.CAP_PROP_POS_MSEC, float(ts * 1000.0))\n",
        "        ok, frame = cap.read()\n",
        "        if not ok or frame is None:\n",
        "            # fallback: try reading the next frame if seek failed\n",
        "            ok2, frame2 = cap.read()\n",
        "            if not ok2 or frame2 is None:\n",
        "                continue\n",
        "            frame = frame2\n",
        "\n",
        "        out_path = out_dir / f\"{prefix}{i:06d}.jpg\"\n",
        "        if not cv2.imwrite(str(out_path), frame, imwrite_params):\n",
        "            print(f\"Warning: failed to write {out_path}\")\n",
        "        else:\n",
        "            saved += 1\n",
        "\n",
        "    cap.release()\n",
        "    # we make sure to return the video path, frames per second (fps), duration in seconds, number of frames, target fps, frames saved and output folder\n",
        "    return {\n",
        "        \"video_path\": str(video_path),\n",
        "        \"src_fps\": float(src_fps),\n",
        "        \"duration_s\": float(duration_s),\n",
        "        \"frame_count_src\": int(frame_count) if frame_count is not None else None,\n",
        "        \"target_fps\": float(target_fps),\n",
        "        \"frames_saved\": int(saved),\n",
        "        \"out_dir\": str(out_dir),\n",
        "    }"
      ]
    },
    {
      "cell_type": "markdown",
      "metadata": {
        "id": "-HnC5ca6neNi"
      },
      "source": [
        "## 4. Build datasets splits train, val and test"
      ]
    },
    {
      "cell_type": "code",
      "execution_count": 5,
      "metadata": {
        "id": "vwov32eGn2gz"
      },
      "outputs": [],
      "source": [
        "# Build dataset splits from ok/fail and video index (1=train, 2=val, 3=test)\n",
        "\n",
        "# Determines the output directory where processed frames (or results) for a specific video should be saved, based on the video’s label (e.g., \"ok\" or \"fail\") and its index (e.g., 1, 2, or 3).\n",
        "def target_dir_for(label: str, idx: int) -> Path:\n",
        "    split = INDEX_TO_SPLIT.get(idx)\n",
        "    if split is None:\n",
        "        raise ValueError(f\"Unexpected video index {idx}; expected 1, 2, or 3.\")\n",
        "    return Path(ROOT_OUT) / split / label\n",
        "\n",
        "# Processes all videos associated with a specific label (e.g., \"ok\" or \"fail\") by:\n",
        "# (i) Discovering their file paths.\n",
        "# (ii) Extracting frames at a fixed FPS.\n",
        "# (iii) Saving the frames to the correct output directory.\n",
        "# (iv) Collecting metadata (e.g., FPS, frame count, output paths) for each video.\n",
        "def process_label_group(label: str, base_patterns):\n",
        "    found = discover_video_paths(base_patterns, VIDEO_EXTS)\n",
        "    summaries = []\n",
        "    for idx, vpath in sorted(found.items()):\n",
        "        out_dir = target_dir_for(label, idx)\n",
        "        info = extract_fixed_fps(\n",
        "            vpath, out_dir,\n",
        "            target_fps=TARGET_FPS,\n",
        "            jpeg_quality=JPEG_QUALITY,\n",
        "            prefix=FILENAME_PREFIX\n",
        "        )\n",
        "        info.update({\"label\": label, \"index\": idx, \"split\": INDEX_TO_SPLIT[idx]})\n",
        "        summaries.append(info)\n",
        "    return summaries\n",
        "\n",
        "ok_summary   = process_label_group(\"ok\",   OK_PATTERNS)\n",
        "fail_summary = process_label_group(\"fail\", FAIL_PATTERNS)"
      ]
    },
    {
      "cell_type": "code",
      "execution_count": 6,
      "metadata": {
        "colab": {
          "base_uri": "https://localhost:8080/"
        },
        "id": "WKI2m1nSn4Au",
        "outputId": "6580bd42-4b7e-45df-f625-b4f8eff72ae9"
      },
      "outputs": [
        {
          "name": "stdout",
          "output_type": "stream",
          "text": [
            "== OK videos ==\n",
            "[{'video_path': '/content/drive/MyDrive/VV/Videos//ok-video1.mp4', 'src_fps': 30.021556574298213, 'duration_s': 19.45268888888889, 'frame_count_src': 584, 'target_fps': 5.0, 'frames_saved': 98, 'out_dir': '/content/drive/MyDrive/VV/Tryout images/train/ok', 'label': 'ok', 'index': 1, 'split': 'train'}, {'video_path': '/content/drive/MyDrive/VV/Videos//ok-video2.mp4', 'src_fps': 30.02141605555195, 'duration_s': 8.560555555555556, 'frame_count_src': 257, 'target_fps': 5.0, 'frames_saved': 43, 'out_dir': '/content/drive/MyDrive/VV/Tryout images/val/ok', 'label': 'ok', 'index': 2, 'split': 'val'}, {'video_path': '/content/drive/MyDrive/VV/Videos//ok-video3.mp4', 'src_fps': 29.91604546396205, 'duration_s': 9.493233333333334, 'frame_count_src': 284, 'target_fps': 5.0, 'frames_saved': 48, 'out_dir': '/content/drive/MyDrive/VV/Tryout images/test/ok', 'label': 'ok', 'index': 3, 'split': 'test'}]\n",
            "\n",
            "== FAIL videos ==\n",
            "[{'video_path': '/content/drive/MyDrive/VV/Videos//fail-video1.mp4', 'src_fps': 28.914662546980562, 'duration_s': 7.228166666666667, 'frame_count_src': 209, 'target_fps': 5.0, 'frames_saved': 37, 'out_dir': '/content/drive/MyDrive/VV/Tryout images/train/fail', 'label': 'fail', 'index': 1, 'split': 'train'}, {'video_path': '/content/drive/MyDrive/VV/Videos//fail-video2.mp4', 'src_fps': 30.022358658678893, 'duration_s': 8.959988888888889, 'frame_count_src': 269, 'target_fps': 5.0, 'frames_saved': 45, 'out_dir': '/content/drive/MyDrive/VV/Tryout images/val/fail', 'label': 'fail', 'index': 2, 'split': 'val'}, {'video_path': '/content/drive/MyDrive/VV/Videos//fail-video3.mp4', 'src_fps': 28.014328573702628, 'duration_s': 10.958677777777778, 'frame_count_src': 307, 'target_fps': 5.0, 'frames_saved': 55, 'out_dir': '/content/drive/MyDrive/VV/Tryout images/test/fail', 'label': 'fail', 'index': 3, 'split': 'test'}]\n"
          ]
        }
      ],
      "source": [
        "print(\"== OK videos ==\")\n",
        "print(ok_summary)\n",
        "print(\"\\n== FAIL videos ==\")\n",
        "print(fail_summary)"
      ]
    }
  ],
  "metadata": {
    "colab": {
      "provenance": []
    },
    "kernelspec": {
      "display_name": "Python 3",
      "name": "python3"
    },
    "language_info": {
      "name": "python"
    }
  },
  "nbformat": 4,
  "nbformat_minor": 0
}
